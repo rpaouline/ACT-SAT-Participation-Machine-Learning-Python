{
 "cells": [
  {
   "cell_type": "markdown",
   "metadata": {},
   "source": [
    "# Project 1"
   ]
  },
  {
   "cell_type": "markdown",
   "metadata": {},
   "source": [
    "## Step 1: Load the data and perform basic operations."
   ]
  },
  {
   "cell_type": "markdown",
   "metadata": {},
   "source": [
    "##### 1. Load the data in using pandas."
   ]
  },
  {
   "cell_type": "code",
   "execution_count": 2,
   "metadata": {},
   "outputs": [],
   "source": [
    "import pandas as pd"
   ]
  },
  {
   "cell_type": "code",
   "execution_count": 3,
   "metadata": {},
   "outputs": [],
   "source": [
    "# load the data from two csv files, separately\n",
    "df_act = pd.read_csv('./act.csv',index_col=0)\n",
    "df_sat = pd.read_csv('./sat.csv',index_col=0)"
   ]
  },
  {
   "cell_type": "markdown",
   "metadata": {},
   "source": [
    "##### 2. Print the first ten rows of each dataframe."
   ]
  },
  {
   "cell_type": "code",
   "execution_count": 4,
   "metadata": {},
   "outputs": [
    {
     "data": {
      "text/html": [
       "<div>\n",
       "<style scoped>\n",
       "    .dataframe tbody tr th:only-of-type {\n",
       "        vertical-align: middle;\n",
       "    }\n",
       "\n",
       "    .dataframe tbody tr th {\n",
       "        vertical-align: top;\n",
       "    }\n",
       "\n",
       "    .dataframe thead th {\n",
       "        text-align: right;\n",
       "    }\n",
       "</style>\n",
       "<table border=\"1\" class=\"dataframe\">\n",
       "  <thead>\n",
       "    <tr style=\"text-align: right;\">\n",
       "      <th></th>\n",
       "      <th>State</th>\n",
       "      <th>Participation</th>\n",
       "      <th>English</th>\n",
       "      <th>Math</th>\n",
       "      <th>Reading</th>\n",
       "      <th>Science</th>\n",
       "      <th>Composite</th>\n",
       "    </tr>\n",
       "  </thead>\n",
       "  <tbody>\n",
       "    <tr>\n",
       "      <th>0</th>\n",
       "      <td>National</td>\n",
       "      <td>60%</td>\n",
       "      <td>20.3</td>\n",
       "      <td>20.7</td>\n",
       "      <td>21.4</td>\n",
       "      <td>21.0</td>\n",
       "      <td>21.0</td>\n",
       "    </tr>\n",
       "    <tr>\n",
       "      <th>1</th>\n",
       "      <td>Alabama</td>\n",
       "      <td>100%</td>\n",
       "      <td>18.9</td>\n",
       "      <td>18.4</td>\n",
       "      <td>19.7</td>\n",
       "      <td>19.4</td>\n",
       "      <td>19.2</td>\n",
       "    </tr>\n",
       "    <tr>\n",
       "      <th>2</th>\n",
       "      <td>Alaska</td>\n",
       "      <td>65%</td>\n",
       "      <td>18.7</td>\n",
       "      <td>19.8</td>\n",
       "      <td>20.4</td>\n",
       "      <td>19.9</td>\n",
       "      <td>19.8</td>\n",
       "    </tr>\n",
       "    <tr>\n",
       "      <th>3</th>\n",
       "      <td>Arizona</td>\n",
       "      <td>62%</td>\n",
       "      <td>18.6</td>\n",
       "      <td>19.8</td>\n",
       "      <td>20.1</td>\n",
       "      <td>19.8</td>\n",
       "      <td>19.7</td>\n",
       "    </tr>\n",
       "    <tr>\n",
       "      <th>4</th>\n",
       "      <td>Arkansas</td>\n",
       "      <td>100%</td>\n",
       "      <td>18.9</td>\n",
       "      <td>19.0</td>\n",
       "      <td>19.7</td>\n",
       "      <td>19.5</td>\n",
       "      <td>19.4</td>\n",
       "    </tr>\n",
       "    <tr>\n",
       "      <th>5</th>\n",
       "      <td>California</td>\n",
       "      <td>31%</td>\n",
       "      <td>22.5</td>\n",
       "      <td>22.7</td>\n",
       "      <td>23.1</td>\n",
       "      <td>22.2</td>\n",
       "      <td>22.8</td>\n",
       "    </tr>\n",
       "    <tr>\n",
       "      <th>6</th>\n",
       "      <td>Colorado</td>\n",
       "      <td>100%</td>\n",
       "      <td>20.1</td>\n",
       "      <td>20.3</td>\n",
       "      <td>21.2</td>\n",
       "      <td>20.9</td>\n",
       "      <td>20.8</td>\n",
       "    </tr>\n",
       "    <tr>\n",
       "      <th>7</th>\n",
       "      <td>Connecticut</td>\n",
       "      <td>31%</td>\n",
       "      <td>25.5</td>\n",
       "      <td>24.6</td>\n",
       "      <td>25.6</td>\n",
       "      <td>24.6</td>\n",
       "      <td>25.2</td>\n",
       "    </tr>\n",
       "    <tr>\n",
       "      <th>8</th>\n",
       "      <td>Delaware</td>\n",
       "      <td>18%</td>\n",
       "      <td>24.1</td>\n",
       "      <td>23.4</td>\n",
       "      <td>24.8</td>\n",
       "      <td>23.6</td>\n",
       "      <td>24.1</td>\n",
       "    </tr>\n",
       "    <tr>\n",
       "      <th>9</th>\n",
       "      <td>District of Columbia</td>\n",
       "      <td>32%</td>\n",
       "      <td>24.4</td>\n",
       "      <td>23.5</td>\n",
       "      <td>24.9</td>\n",
       "      <td>23.5</td>\n",
       "      <td>24.2</td>\n",
       "    </tr>\n",
       "  </tbody>\n",
       "</table>\n",
       "</div>"
      ],
      "text/plain": [
       "                  State Participation  English  Math  Reading  Science  \\\n",
       "0              National           60%     20.3  20.7     21.4     21.0   \n",
       "1               Alabama          100%     18.9  18.4     19.7     19.4   \n",
       "2                Alaska           65%     18.7  19.8     20.4     19.9   \n",
       "3               Arizona           62%     18.6  19.8     20.1     19.8   \n",
       "4              Arkansas          100%     18.9  19.0     19.7     19.5   \n",
       "5            California           31%     22.5  22.7     23.1     22.2   \n",
       "6              Colorado          100%     20.1  20.3     21.2     20.9   \n",
       "7           Connecticut           31%     25.5  24.6     25.6     24.6   \n",
       "8              Delaware           18%     24.1  23.4     24.8     23.6   \n",
       "9  District of Columbia           32%     24.4  23.5     24.9     23.5   \n",
       "\n",
       "   Composite  \n",
       "0       21.0  \n",
       "1       19.2  \n",
       "2       19.8  \n",
       "3       19.7  \n",
       "4       19.4  \n",
       "5       22.8  \n",
       "6       20.8  \n",
       "7       25.2  \n",
       "8       24.1  \n",
       "9       24.2  "
      ]
     },
     "execution_count": 4,
     "metadata": {},
     "output_type": "execute_result"
    }
   ],
   "source": [
    "df_act.head(10)"
   ]
  },
  {
   "cell_type": "code",
   "execution_count": 5,
   "metadata": {},
   "outputs": [
    {
     "data": {
      "text/html": [
       "<div>\n",
       "<style scoped>\n",
       "    .dataframe tbody tr th:only-of-type {\n",
       "        vertical-align: middle;\n",
       "    }\n",
       "\n",
       "    .dataframe tbody tr th {\n",
       "        vertical-align: top;\n",
       "    }\n",
       "\n",
       "    .dataframe thead th {\n",
       "        text-align: right;\n",
       "    }\n",
       "</style>\n",
       "<table border=\"1\" class=\"dataframe\">\n",
       "  <thead>\n",
       "    <tr style=\"text-align: right;\">\n",
       "      <th></th>\n",
       "      <th>State</th>\n",
       "      <th>Participation</th>\n",
       "      <th>Evidence-Based Reading and Writing</th>\n",
       "      <th>Math</th>\n",
       "      <th>Total</th>\n",
       "    </tr>\n",
       "  </thead>\n",
       "  <tbody>\n",
       "    <tr>\n",
       "      <th>0</th>\n",
       "      <td>Alabama</td>\n",
       "      <td>5%</td>\n",
       "      <td>593</td>\n",
       "      <td>572</td>\n",
       "      <td>1165</td>\n",
       "    </tr>\n",
       "    <tr>\n",
       "      <th>1</th>\n",
       "      <td>Alaska</td>\n",
       "      <td>38%</td>\n",
       "      <td>547</td>\n",
       "      <td>533</td>\n",
       "      <td>1080</td>\n",
       "    </tr>\n",
       "    <tr>\n",
       "      <th>2</th>\n",
       "      <td>Arizona</td>\n",
       "      <td>30%</td>\n",
       "      <td>563</td>\n",
       "      <td>553</td>\n",
       "      <td>1116</td>\n",
       "    </tr>\n",
       "    <tr>\n",
       "      <th>3</th>\n",
       "      <td>Arkansas</td>\n",
       "      <td>3%</td>\n",
       "      <td>614</td>\n",
       "      <td>594</td>\n",
       "      <td>1208</td>\n",
       "    </tr>\n",
       "    <tr>\n",
       "      <th>4</th>\n",
       "      <td>California</td>\n",
       "      <td>53%</td>\n",
       "      <td>531</td>\n",
       "      <td>524</td>\n",
       "      <td>1055</td>\n",
       "    </tr>\n",
       "    <tr>\n",
       "      <th>5</th>\n",
       "      <td>Colorado</td>\n",
       "      <td>11%</td>\n",
       "      <td>606</td>\n",
       "      <td>595</td>\n",
       "      <td>1201</td>\n",
       "    </tr>\n",
       "    <tr>\n",
       "      <th>6</th>\n",
       "      <td>Connecticut</td>\n",
       "      <td>100%</td>\n",
       "      <td>530</td>\n",
       "      <td>512</td>\n",
       "      <td>1041</td>\n",
       "    </tr>\n",
       "    <tr>\n",
       "      <th>7</th>\n",
       "      <td>Delaware</td>\n",
       "      <td>100%</td>\n",
       "      <td>503</td>\n",
       "      <td>492</td>\n",
       "      <td>996</td>\n",
       "    </tr>\n",
       "    <tr>\n",
       "      <th>8</th>\n",
       "      <td>District of Columbia</td>\n",
       "      <td>100%</td>\n",
       "      <td>482</td>\n",
       "      <td>468</td>\n",
       "      <td>950</td>\n",
       "    </tr>\n",
       "    <tr>\n",
       "      <th>9</th>\n",
       "      <td>Florida</td>\n",
       "      <td>83%</td>\n",
       "      <td>520</td>\n",
       "      <td>497</td>\n",
       "      <td>1017</td>\n",
       "    </tr>\n",
       "  </tbody>\n",
       "</table>\n",
       "</div>"
      ],
      "text/plain": [
       "                  State Participation  Evidence-Based Reading and Writing  \\\n",
       "0               Alabama            5%                                 593   \n",
       "1                Alaska           38%                                 547   \n",
       "2               Arizona           30%                                 563   \n",
       "3              Arkansas            3%                                 614   \n",
       "4            California           53%                                 531   \n",
       "5              Colorado           11%                                 606   \n",
       "6           Connecticut          100%                                 530   \n",
       "7              Delaware          100%                                 503   \n",
       "8  District of Columbia          100%                                 482   \n",
       "9               Florida           83%                                 520   \n",
       "\n",
       "   Math  Total  \n",
       "0   572   1165  \n",
       "1   533   1080  \n",
       "2   553   1116  \n",
       "3   594   1208  \n",
       "4   524   1055  \n",
       "5   595   1201  \n",
       "6   512   1041  \n",
       "7   492    996  \n",
       "8   468    950  \n",
       "9   497   1017  "
      ]
     },
     "execution_count": 5,
     "metadata": {},
     "output_type": "execute_result"
    }
   ],
   "source": [
    "df_sat.head(10)"
   ]
  },
  {
   "cell_type": "markdown",
   "metadata": {},
   "source": [
    "##### 3. Describe in words what each variable (column) is."
   ]
  },
  {
   "cell_type": "code",
   "execution_count": 6,
   "metadata": {},
   "outputs": [],
   "source": [
    "# State - if \"National\" it means all the country, if name of state - this state only\n",
    "# Participation - percent of students that took this kind of test\n",
    "# All other columns except \"Total\" and \"Composite\" - names of subjects\n",
    "# Total - sum of all the subjects of this test (SAT)\n",
    "# Composite - mean of all the subjects of this test (ACT)"
   ]
  },
  {
   "cell_type": "markdown",
   "metadata": {},
   "source": [
    "##### 4. Does the data look complete? Are there any obvious issues with the observations?"
   ]
  },
  {
   "cell_type": "code",
   "execution_count": 7,
   "metadata": {},
   "outputs": [],
   "source": [
    "# 1. There has to be not only percent but whole number of students\n",
    "# 2. Moreover there are two outliers, and we are going to replace them\n",
    "# 3. I wish we had distribution of grades into each state, for instance how many students in state got over 25,\n",
    "# how many over 20 but less than 25 etc."
   ]
  },
  {
   "cell_type": "code",
   "execution_count": 8,
   "metadata": {},
   "outputs": [
    {
     "data": {
      "text/html": [
       "<div>\n",
       "<style scoped>\n",
       "    .dataframe tbody tr th:only-of-type {\n",
       "        vertical-align: middle;\n",
       "    }\n",
       "\n",
       "    .dataframe tbody tr th {\n",
       "        vertical-align: top;\n",
       "    }\n",
       "\n",
       "    .dataframe thead th {\n",
       "        text-align: right;\n",
       "    }\n",
       "</style>\n",
       "<table border=\"1\" class=\"dataframe\">\n",
       "  <thead>\n",
       "    <tr style=\"text-align: right;\">\n",
       "      <th></th>\n",
       "      <th>State</th>\n",
       "      <th>Participation</th>\n",
       "      <th>English</th>\n",
       "      <th>Math</th>\n",
       "      <th>Reading</th>\n",
       "      <th>Science</th>\n",
       "      <th>Composite</th>\n",
       "    </tr>\n",
       "  </thead>\n",
       "  <tbody>\n",
       "    <tr>\n",
       "      <th>21</th>\n",
       "      <td>Maryland</td>\n",
       "      <td>28%</td>\n",
       "      <td>23.3</td>\n",
       "      <td>23.1</td>\n",
       "      <td>24.2</td>\n",
       "      <td>2.3</td>\n",
       "      <td>23.6</td>\n",
       "    </tr>\n",
       "    <tr>\n",
       "      <th>29</th>\n",
       "      <td>Nevada</td>\n",
       "      <td>100%</td>\n",
       "      <td>16.3</td>\n",
       "      <td>18.0</td>\n",
       "      <td>18.1</td>\n",
       "      <td>18.2</td>\n",
       "      <td>17.8</td>\n",
       "    </tr>\n",
       "    <tr>\n",
       "      <th>25</th>\n",
       "      <td>Mississippi</td>\n",
       "      <td>100%</td>\n",
       "      <td>18.2</td>\n",
       "      <td>18.1</td>\n",
       "      <td>18.8</td>\n",
       "      <td>18.8</td>\n",
       "      <td>18.6</td>\n",
       "    </tr>\n",
       "    <tr>\n",
       "      <th>41</th>\n",
       "      <td>South Carolina</td>\n",
       "      <td>100%</td>\n",
       "      <td>17.5</td>\n",
       "      <td>18.6</td>\n",
       "      <td>19.1</td>\n",
       "      <td>18.9</td>\n",
       "      <td>18.7</td>\n",
       "    </tr>\n",
       "    <tr>\n",
       "      <th>34</th>\n",
       "      <td>North Carolina</td>\n",
       "      <td>100%</td>\n",
       "      <td>17.8</td>\n",
       "      <td>19.3</td>\n",
       "      <td>19.6</td>\n",
       "      <td>19.3</td>\n",
       "      <td>19.1</td>\n",
       "    </tr>\n",
       "  </tbody>\n",
       "</table>\n",
       "</div>"
      ],
      "text/plain": [
       "             State Participation  English  Math  Reading  Science  Composite\n",
       "21        Maryland           28%     23.3  23.1     24.2      2.3       23.6\n",
       "29          Nevada          100%     16.3  18.0     18.1     18.2       17.8\n",
       "25     Mississippi          100%     18.2  18.1     18.8     18.8       18.6\n",
       "41  South Carolina          100%     17.5  18.6     19.1     18.9       18.7\n",
       "34  North Carolina          100%     17.8  19.3     19.6     19.3       19.1"
      ]
     },
     "execution_count": 8,
     "metadata": {},
     "output_type": "execute_result"
    }
   ],
   "source": [
    "# to find outliers let's sort values of ACT by Science\n",
    "df_act.sort_values(['Science']).head()\n",
    "# we can see that we have one oulier here, Science = 23"
   ]
  },
  {
   "cell_type": "code",
   "execution_count": 9,
   "metadata": {},
   "outputs": [],
   "source": [
    "# replace them with correct data from https://blog.prepscholar.com/act-scores-by-state-averages-highs-and-lows\n",
    "df_act.loc[21,'Science'] = 23.2"
   ]
  },
  {
   "cell_type": "code",
   "execution_count": 10,
   "metadata": {},
   "outputs": [
    {
     "data": {
      "text/html": [
       "<div>\n",
       "<style scoped>\n",
       "    .dataframe tbody tr th:only-of-type {\n",
       "        vertical-align: middle;\n",
       "    }\n",
       "\n",
       "    .dataframe tbody tr th {\n",
       "        vertical-align: top;\n",
       "    }\n",
       "\n",
       "    .dataframe thead th {\n",
       "        text-align: right;\n",
       "    }\n",
       "</style>\n",
       "<table border=\"1\" class=\"dataframe\">\n",
       "  <thead>\n",
       "    <tr style=\"text-align: right;\">\n",
       "      <th></th>\n",
       "      <th>State</th>\n",
       "      <th>Participation</th>\n",
       "      <th>Evidence-Based Reading and Writing</th>\n",
       "      <th>Math</th>\n",
       "      <th>Total</th>\n",
       "    </tr>\n",
       "  </thead>\n",
       "  <tbody>\n",
       "    <tr>\n",
       "      <th>20</th>\n",
       "      <td>Maryland</td>\n",
       "      <td>69%</td>\n",
       "      <td>536</td>\n",
       "      <td>52</td>\n",
       "      <td>1060</td>\n",
       "    </tr>\n",
       "    <tr>\n",
       "      <th>8</th>\n",
       "      <td>District of Columbia</td>\n",
       "      <td>100%</td>\n",
       "      <td>482</td>\n",
       "      <td>468</td>\n",
       "      <td>950</td>\n",
       "    </tr>\n",
       "    <tr>\n",
       "      <th>7</th>\n",
       "      <td>Delaware</td>\n",
       "      <td>100%</td>\n",
       "      <td>503</td>\n",
       "      <td>492</td>\n",
       "      <td>996</td>\n",
       "    </tr>\n",
       "    <tr>\n",
       "      <th>12</th>\n",
       "      <td>Idaho</td>\n",
       "      <td>93%</td>\n",
       "      <td>513</td>\n",
       "      <td>493</td>\n",
       "      <td>1005</td>\n",
       "    </tr>\n",
       "    <tr>\n",
       "      <th>22</th>\n",
       "      <td>Michigan</td>\n",
       "      <td>100%</td>\n",
       "      <td>509</td>\n",
       "      <td>495</td>\n",
       "      <td>1005</td>\n",
       "    </tr>\n",
       "  </tbody>\n",
       "</table>\n",
       "</div>"
      ],
      "text/plain": [
       "                   State Participation  Evidence-Based Reading and Writing  \\\n",
       "20              Maryland           69%                                 536   \n",
       "8   District of Columbia          100%                                 482   \n",
       "7               Delaware          100%                                 503   \n",
       "12                 Idaho           93%                                 513   \n",
       "22              Michigan          100%                                 509   \n",
       "\n",
       "    Math  Total  \n",
       "20    52   1060  \n",
       "8    468    950  \n",
       "7    492    996  \n",
       "12   493   1005  \n",
       "22   495   1005  "
      ]
     },
     "execution_count": 10,
     "metadata": {},
     "output_type": "execute_result"
    }
   ],
   "source": [
    "# sort values of SAT by Math, we know that there is a mistaken value\n",
    "df_sat.sort_values(['Math']).head()\n",
    "# we can see that we have one oulier here, Math = 52"
   ]
  },
  {
   "cell_type": "code",
   "execution_count": 11,
   "metadata": {},
   "outputs": [],
   "source": [
    "# replace them with correct data from https://blog.prepscholar.com/average-sat-scores-by-state-most-recent\n",
    "df_sat.loc[20,'Math'] = 524"
   ]
  },
  {
   "cell_type": "code",
   "execution_count": 12,
   "metadata": {},
   "outputs": [],
   "source": [
    "df_act['Total']=df_act['English']+df_act['Math']+df_act['Reading']+df_act['Science']"
   ]
  },
  {
   "cell_type": "markdown",
   "metadata": {},
   "source": [
    "##### 5. Print the types of each column."
   ]
  },
  {
   "cell_type": "code",
   "execution_count": 12,
   "metadata": {
    "scrolled": true
   },
   "outputs": [
    {
     "data": {
      "text/plain": [
       "State             object\n",
       "Participation     object\n",
       "English          float64\n",
       "Math             float64\n",
       "Reading          float64\n",
       "Science          float64\n",
       "Composite        float64\n",
       "Total            float64\n",
       "dtype: object"
      ]
     },
     "execution_count": 12,
     "metadata": {},
     "output_type": "execute_result"
    }
   ],
   "source": [
    "df_act.dtypes"
   ]
  },
  {
   "cell_type": "code",
   "execution_count": 13,
   "metadata": {},
   "outputs": [
    {
     "data": {
      "text/plain": [
       "State                                 object\n",
       "Participation                         object\n",
       "Evidence-Based Reading and Writing     int64\n",
       "Math                                   int64\n",
       "Total                                  int64\n",
       "dtype: object"
      ]
     },
     "execution_count": 13,
     "metadata": {},
     "output_type": "execute_result"
    }
   ],
   "source": [
    "df_sat.dtypes"
   ]
  },
  {
   "cell_type": "markdown",
   "metadata": {},
   "source": [
    "##### 6. Do any types need to be reassigned? If so, go ahead and do it."
   ]
  },
  {
   "cell_type": "code",
   "execution_count": 14,
   "metadata": {},
   "outputs": [],
   "source": [
    "# create numeric for participation from string with %\n",
    "df_act['Participation'] = df_act['Participation'].str[:-1]\n",
    "df_act['Participation'] = pd.to_numeric(df_act['Participation'])"
   ]
  },
  {
   "cell_type": "code",
   "execution_count": 15,
   "metadata": {},
   "outputs": [],
   "source": [
    "# create numeric for participation from string with %\n",
    "df_sat['Participation'] = df_sat['Participation'].str[:-1]\n",
    "df_sat['Participation'] = pd.to_numeric(df_sat['Participation'])"
   ]
  },
  {
   "cell_type": "code",
   "execution_count": 16,
   "metadata": {},
   "outputs": [
    {
     "data": {
      "text/html": [
       "<div>\n",
       "<style scoped>\n",
       "    .dataframe tbody tr th:only-of-type {\n",
       "        vertical-align: middle;\n",
       "    }\n",
       "\n",
       "    .dataframe tbody tr th {\n",
       "        vertical-align: top;\n",
       "    }\n",
       "\n",
       "    .dataframe thead th {\n",
       "        text-align: right;\n",
       "    }\n",
       "</style>\n",
       "<table border=\"1\" class=\"dataframe\">\n",
       "  <thead>\n",
       "    <tr style=\"text-align: right;\">\n",
       "      <th></th>\n",
       "      <th>State</th>\n",
       "      <th>Participation</th>\n",
       "      <th>English</th>\n",
       "      <th>Math</th>\n",
       "      <th>Reading</th>\n",
       "      <th>Science</th>\n",
       "      <th>Composite</th>\n",
       "      <th>Total</th>\n",
       "    </tr>\n",
       "  </thead>\n",
       "  <tbody>\n",
       "    <tr>\n",
       "      <th>0</th>\n",
       "      <td>National</td>\n",
       "      <td>60</td>\n",
       "      <td>20.3</td>\n",
       "      <td>20.7</td>\n",
       "      <td>21.4</td>\n",
       "      <td>21.0</td>\n",
       "      <td>21.0</td>\n",
       "      <td>83.4</td>\n",
       "    </tr>\n",
       "    <tr>\n",
       "      <th>1</th>\n",
       "      <td>Alabama</td>\n",
       "      <td>100</td>\n",
       "      <td>18.9</td>\n",
       "      <td>18.4</td>\n",
       "      <td>19.7</td>\n",
       "      <td>19.4</td>\n",
       "      <td>19.2</td>\n",
       "      <td>76.4</td>\n",
       "    </tr>\n",
       "    <tr>\n",
       "      <th>2</th>\n",
       "      <td>Alaska</td>\n",
       "      <td>65</td>\n",
       "      <td>18.7</td>\n",
       "      <td>19.8</td>\n",
       "      <td>20.4</td>\n",
       "      <td>19.9</td>\n",
       "      <td>19.8</td>\n",
       "      <td>78.8</td>\n",
       "    </tr>\n",
       "    <tr>\n",
       "      <th>3</th>\n",
       "      <td>Arizona</td>\n",
       "      <td>62</td>\n",
       "      <td>18.6</td>\n",
       "      <td>19.8</td>\n",
       "      <td>20.1</td>\n",
       "      <td>19.8</td>\n",
       "      <td>19.7</td>\n",
       "      <td>78.3</td>\n",
       "    </tr>\n",
       "    <tr>\n",
       "      <th>4</th>\n",
       "      <td>Arkansas</td>\n",
       "      <td>100</td>\n",
       "      <td>18.9</td>\n",
       "      <td>19.0</td>\n",
       "      <td>19.7</td>\n",
       "      <td>19.5</td>\n",
       "      <td>19.4</td>\n",
       "      <td>77.1</td>\n",
       "    </tr>\n",
       "  </tbody>\n",
       "</table>\n",
       "</div>"
      ],
      "text/plain": [
       "      State  Participation  English  Math  Reading  Science  Composite  Total\n",
       "0  National             60     20.3  20.7     21.4     21.0       21.0   83.4\n",
       "1   Alabama            100     18.9  18.4     19.7     19.4       19.2   76.4\n",
       "2    Alaska             65     18.7  19.8     20.4     19.9       19.8   78.8\n",
       "3   Arizona             62     18.6  19.8     20.1     19.8       19.7   78.3\n",
       "4  Arkansas            100     18.9  19.0     19.7     19.5       19.4   77.1"
      ]
     },
     "execution_count": 16,
     "metadata": {},
     "output_type": "execute_result"
    }
   ],
   "source": [
    "df_act.head()"
   ]
  },
  {
   "cell_type": "markdown",
   "metadata": {},
   "source": [
    "##### 7. Create a dictionary for each column mapping the State to its respective value for that column. (For example, you should have three SAT dictionaries.)"
   ]
  },
  {
   "cell_type": "code",
   "execution_count": 17,
   "metadata": {},
   "outputs": [],
   "source": [
    "dict_sat_rw = {}\n",
    "dict_sat_math = {}\n",
    "dict_sat_total = {}\n",
    "\n",
    "for i in df_sat.values:\n",
    "    dict_sat_rw[i[0]]=i[2]\n",
    "    dict_sat_math[i[0]]=i[3]\n",
    "    dict_sat_total[i[0]]=i[4]\n",
    "    \n",
    "dict_act_english = {}\n",
    "dict_act_math = {}\n",
    "dict_act_reading = {}\n",
    "dict_act_science = {}\n",
    "dict_act_composit = {}\n",
    "\n",
    "for i in df_act.values:\n",
    "    dict_act_english[i[0]] = i[2]\n",
    "    dict_act_math[i[0]] = i[3]\n",
    "    dict_act_reading[i[0]] = i[4]\n",
    "    dict_act_science[i[0]] = i[5]\n",
    "    dict_act_composit[i[0]] = i[6]    "
   ]
  },
  {
   "cell_type": "markdown",
   "metadata": {},
   "source": [
    "##### 8. Create one dictionary where each key is the column name, and each value is an iterable (a list or a Pandas Series) of all the values in that column."
   ]
  },
  {
   "cell_type": "code",
   "execution_count": 18,
   "metadata": {},
   "outputs": [],
   "source": [
    "dict_sat = df_sat.to_dict()\n",
    "dict_act = df_act.to_dict()   "
   ]
  },
  {
   "cell_type": "markdown",
   "metadata": {},
   "source": [
    "##### 9. Merge the dataframes on the state column."
   ]
  },
  {
   "cell_type": "code",
   "execution_count": 19,
   "metadata": {},
   "outputs": [
    {
     "data": {
      "text/html": [
       "<div>\n",
       "<style scoped>\n",
       "    .dataframe tbody tr th:only-of-type {\n",
       "        vertical-align: middle;\n",
       "    }\n",
       "\n",
       "    .dataframe tbody tr th {\n",
       "        vertical-align: top;\n",
       "    }\n",
       "\n",
       "    .dataframe thead th {\n",
       "        text-align: right;\n",
       "    }\n",
       "</style>\n",
       "<table border=\"1\" class=\"dataframe\">\n",
       "  <thead>\n",
       "    <tr style=\"text-align: right;\">\n",
       "      <th></th>\n",
       "      <th>State</th>\n",
       "      <th>Participation_x</th>\n",
       "      <th>English</th>\n",
       "      <th>Math_x</th>\n",
       "      <th>Reading</th>\n",
       "      <th>Science</th>\n",
       "      <th>Composite</th>\n",
       "      <th>Total_x</th>\n",
       "      <th>Participation_y</th>\n",
       "      <th>Evidence-Based Reading and Writing</th>\n",
       "      <th>Math_y</th>\n",
       "      <th>Total_y</th>\n",
       "    </tr>\n",
       "  </thead>\n",
       "  <tbody>\n",
       "    <tr>\n",
       "      <th>0</th>\n",
       "      <td>Alabama</td>\n",
       "      <td>100</td>\n",
       "      <td>18.9</td>\n",
       "      <td>18.4</td>\n",
       "      <td>19.7</td>\n",
       "      <td>19.4</td>\n",
       "      <td>19.2</td>\n",
       "      <td>76.4</td>\n",
       "      <td>5</td>\n",
       "      <td>593</td>\n",
       "      <td>572</td>\n",
       "      <td>1165</td>\n",
       "    </tr>\n",
       "    <tr>\n",
       "      <th>1</th>\n",
       "      <td>Alaska</td>\n",
       "      <td>65</td>\n",
       "      <td>18.7</td>\n",
       "      <td>19.8</td>\n",
       "      <td>20.4</td>\n",
       "      <td>19.9</td>\n",
       "      <td>19.8</td>\n",
       "      <td>78.8</td>\n",
       "      <td>38</td>\n",
       "      <td>547</td>\n",
       "      <td>533</td>\n",
       "      <td>1080</td>\n",
       "    </tr>\n",
       "    <tr>\n",
       "      <th>2</th>\n",
       "      <td>Arizona</td>\n",
       "      <td>62</td>\n",
       "      <td>18.6</td>\n",
       "      <td>19.8</td>\n",
       "      <td>20.1</td>\n",
       "      <td>19.8</td>\n",
       "      <td>19.7</td>\n",
       "      <td>78.3</td>\n",
       "      <td>30</td>\n",
       "      <td>563</td>\n",
       "      <td>553</td>\n",
       "      <td>1116</td>\n",
       "    </tr>\n",
       "    <tr>\n",
       "      <th>3</th>\n",
       "      <td>Arkansas</td>\n",
       "      <td>100</td>\n",
       "      <td>18.9</td>\n",
       "      <td>19.0</td>\n",
       "      <td>19.7</td>\n",
       "      <td>19.5</td>\n",
       "      <td>19.4</td>\n",
       "      <td>77.1</td>\n",
       "      <td>3</td>\n",
       "      <td>614</td>\n",
       "      <td>594</td>\n",
       "      <td>1208</td>\n",
       "    </tr>\n",
       "    <tr>\n",
       "      <th>4</th>\n",
       "      <td>California</td>\n",
       "      <td>31</td>\n",
       "      <td>22.5</td>\n",
       "      <td>22.7</td>\n",
       "      <td>23.1</td>\n",
       "      <td>22.2</td>\n",
       "      <td>22.8</td>\n",
       "      <td>90.5</td>\n",
       "      <td>53</td>\n",
       "      <td>531</td>\n",
       "      <td>524</td>\n",
       "      <td>1055</td>\n",
       "    </tr>\n",
       "  </tbody>\n",
       "</table>\n",
       "</div>"
      ],
      "text/plain": [
       "        State  Participation_x  English  Math_x  Reading  Science  Composite  \\\n",
       "0     Alabama              100     18.9    18.4     19.7     19.4       19.2   \n",
       "1      Alaska               65     18.7    19.8     20.4     19.9       19.8   \n",
       "2     Arizona               62     18.6    19.8     20.1     19.8       19.7   \n",
       "3    Arkansas              100     18.9    19.0     19.7     19.5       19.4   \n",
       "4  California               31     22.5    22.7     23.1     22.2       22.8   \n",
       "\n",
       "   Total_x  Participation_y  Evidence-Based Reading and Writing  Math_y  \\\n",
       "0     76.4                5                                 593     572   \n",
       "1     78.8               38                                 547     533   \n",
       "2     78.3               30                                 563     553   \n",
       "3     77.1                3                                 614     594   \n",
       "4     90.5               53                                 531     524   \n",
       "\n",
       "   Total_y  \n",
       "0     1165  \n",
       "1     1080  \n",
       "2     1116  \n",
       "3     1208  \n",
       "4     1055  "
      ]
     },
     "execution_count": 19,
     "metadata": {},
     "output_type": "execute_result"
    }
   ],
   "source": [
    "df_total = pd.merge(df_act,df_sat,on='State')\n",
    "df_total.head()"
   ]
  },
  {
   "cell_type": "markdown",
   "metadata": {},
   "source": [
    "##### 10. Change the names of the columns so you can distinguish between the SAT columns and the ACT columns."
   ]
  },
  {
   "cell_type": "code",
   "execution_count": 20,
   "metadata": {
    "scrolled": true
   },
   "outputs": [
    {
     "data": {
      "text/html": [
       "<div>\n",
       "<style scoped>\n",
       "    .dataframe tbody tr th:only-of-type {\n",
       "        vertical-align: middle;\n",
       "    }\n",
       "\n",
       "    .dataframe tbody tr th {\n",
       "        vertical-align: top;\n",
       "    }\n",
       "\n",
       "    .dataframe thead th {\n",
       "        text-align: right;\n",
       "    }\n",
       "</style>\n",
       "<table border=\"1\" class=\"dataframe\">\n",
       "  <thead>\n",
       "    <tr style=\"text-align: right;\">\n",
       "      <th></th>\n",
       "      <th>State</th>\n",
       "      <th>Participation_ACT</th>\n",
       "      <th>English_ACT</th>\n",
       "      <th>Math_ACT</th>\n",
       "      <th>Reading_ACT</th>\n",
       "      <th>Science_ACT</th>\n",
       "      <th>Composite_ACT</th>\n",
       "      <th>Total_ACT</th>\n",
       "      <th>Participation_SAT</th>\n",
       "      <th>EBRW_SAT</th>\n",
       "      <th>Math_SAT</th>\n",
       "      <th>Total_SAT</th>\n",
       "    </tr>\n",
       "  </thead>\n",
       "  <tbody>\n",
       "    <tr>\n",
       "      <th>0</th>\n",
       "      <td>Alabama</td>\n",
       "      <td>100</td>\n",
       "      <td>18.9</td>\n",
       "      <td>18.4</td>\n",
       "      <td>19.7</td>\n",
       "      <td>19.4</td>\n",
       "      <td>19.2</td>\n",
       "      <td>76.4</td>\n",
       "      <td>5</td>\n",
       "      <td>593</td>\n",
       "      <td>572</td>\n",
       "      <td>1165</td>\n",
       "    </tr>\n",
       "    <tr>\n",
       "      <th>1</th>\n",
       "      <td>Alaska</td>\n",
       "      <td>65</td>\n",
       "      <td>18.7</td>\n",
       "      <td>19.8</td>\n",
       "      <td>20.4</td>\n",
       "      <td>19.9</td>\n",
       "      <td>19.8</td>\n",
       "      <td>78.8</td>\n",
       "      <td>38</td>\n",
       "      <td>547</td>\n",
       "      <td>533</td>\n",
       "      <td>1080</td>\n",
       "    </tr>\n",
       "    <tr>\n",
       "      <th>2</th>\n",
       "      <td>Arizona</td>\n",
       "      <td>62</td>\n",
       "      <td>18.6</td>\n",
       "      <td>19.8</td>\n",
       "      <td>20.1</td>\n",
       "      <td>19.8</td>\n",
       "      <td>19.7</td>\n",
       "      <td>78.3</td>\n",
       "      <td>30</td>\n",
       "      <td>563</td>\n",
       "      <td>553</td>\n",
       "      <td>1116</td>\n",
       "    </tr>\n",
       "    <tr>\n",
       "      <th>3</th>\n",
       "      <td>Arkansas</td>\n",
       "      <td>100</td>\n",
       "      <td>18.9</td>\n",
       "      <td>19.0</td>\n",
       "      <td>19.7</td>\n",
       "      <td>19.5</td>\n",
       "      <td>19.4</td>\n",
       "      <td>77.1</td>\n",
       "      <td>3</td>\n",
       "      <td>614</td>\n",
       "      <td>594</td>\n",
       "      <td>1208</td>\n",
       "    </tr>\n",
       "    <tr>\n",
       "      <th>4</th>\n",
       "      <td>California</td>\n",
       "      <td>31</td>\n",
       "      <td>22.5</td>\n",
       "      <td>22.7</td>\n",
       "      <td>23.1</td>\n",
       "      <td>22.2</td>\n",
       "      <td>22.8</td>\n",
       "      <td>90.5</td>\n",
       "      <td>53</td>\n",
       "      <td>531</td>\n",
       "      <td>524</td>\n",
       "      <td>1055</td>\n",
       "    </tr>\n",
       "  </tbody>\n",
       "</table>\n",
       "</div>"
      ],
      "text/plain": [
       "        State  Participation_ACT  English_ACT  Math_ACT  Reading_ACT  \\\n",
       "0     Alabama                100         18.9      18.4         19.7   \n",
       "1      Alaska                 65         18.7      19.8         20.4   \n",
       "2     Arizona                 62         18.6      19.8         20.1   \n",
       "3    Arkansas                100         18.9      19.0         19.7   \n",
       "4  California                 31         22.5      22.7         23.1   \n",
       "\n",
       "   Science_ACT  Composite_ACT  Total_ACT  Participation_SAT  EBRW_SAT  \\\n",
       "0         19.4           19.2       76.4                  5       593   \n",
       "1         19.9           19.8       78.8                 38       547   \n",
       "2         19.8           19.7       78.3                 30       563   \n",
       "3         19.5           19.4       77.1                  3       614   \n",
       "4         22.2           22.8       90.5                 53       531   \n",
       "\n",
       "   Math_SAT  Total_SAT  \n",
       "0       572       1165  \n",
       "1       533       1080  \n",
       "2       553       1116  \n",
       "3       594       1208  \n",
       "4       524       1055  "
      ]
     },
     "execution_count": 20,
     "metadata": {},
     "output_type": "execute_result"
    }
   ],
   "source": [
    "df_total.rename(index=str, inplace=True, columns={'Participation_x':'Participation_ACT',\n",
    "                                    'English':'English_ACT',\n",
    "                                    'Math_x':'Math_ACT',\n",
    "                                    'Reading':'Reading_ACT',\n",
    "                                    'Science':'Science_ACT',\n",
    "                                    'Composite':'Composite_ACT',\n",
    "                                    'Total_x':'Total_ACT',              \n",
    "                                    'Participation_y':'Participation_SAT',\n",
    "                                    'Evidence-Based Reading and Writing':'EBRW_SAT',\n",
    "                                    'Math_y':'Math_SAT',\n",
    "                                    'Total_y':'Total_SAT'\n",
    "                                       })\n",
    "df_total.head()\n"
   ]
  },
  {
   "cell_type": "markdown",
   "metadata": {},
   "source": [
    "##### 11. Print the minimum and maximum of each numeric column in the data frame."
   ]
  },
  {
   "cell_type": "code",
   "execution_count": 21,
   "metadata": {},
   "outputs": [
    {
     "name": "stdout",
     "output_type": "stream",
     "text": [
      "Participation_ACT: min 8, max 100\n",
      "English_ACT: min 16.3, max 25.5\n",
      "Math_ACT: min 18.0, max 25.3\n",
      "Reading_ACT: min 18.1, max 26.0\n",
      "Science_ACT: min 18.2, max 24.9\n",
      "Composite_ACT: min 17.8, max 25.5\n",
      "Total_ACT: min 70.6, max 101.4\n",
      "Participation_SAT: min 2, max 100\n",
      "EBRW_SAT: min 482, max 644\n",
      "Math_SAT: min 468, max 651\n",
      "Total_SAT: min 950, max 1295\n"
     ]
    }
   ],
   "source": [
    "for i in df_total.columns:\n",
    "    if df_total.dtypes[i]=='int64' or df_total.dtypes[i]=='float64':\n",
    "        print(\"{}: min {}, max {}\".format(i,min(df_total[i]),max(df_total[i])))\n",
    "# Now we can see that there is no ouliers more"
   ]
  },
  {
   "cell_type": "markdown",
   "metadata": {},
   "source": [
    "##### 12. Write a function using only list comprehensions, no loops, to compute standard deviation. Using this function, calculate the standard deviation of each numeric column in both data sets. Add these to a list called `sd`.\n",
    "\n",
    "$$\\sigma = \\sqrt{\\frac{1}{n}\\sum_{i=1}^n(x_i - \\mu)^2}$$"
   ]
  },
  {
   "cell_type": "code",
   "execution_count": 22,
   "metadata": {},
   "outputs": [],
   "source": [
    "import numpy as np\n",
    "# function\n",
    "def my_sd(data):\n",
    "    return np.sqrt(np.mean([(x-data.mean())**2 for x in data]))       "
   ]
  },
  {
   "cell_type": "code",
   "execution_count": 23,
   "metadata": {},
   "outputs": [
    {
     "data": {
      "text/plain": [
       "[31.824175751231806,\n",
       " 2.3304876369363368,\n",
       " 1.9624620273436781,\n",
       " 2.046902931484265,\n",
       " 1.7222161451443672,\n",
       " 2.0007860815819893,\n",
       " 8.00451621850747,\n",
       " 34.929070766645076,\n",
       " 45.21697020437866,\n",
       " 46.65713364485504,\n",
       " 91.58351056778743]"
      ]
     },
     "execution_count": 23,
     "metadata": {},
     "output_type": "execute_result"
    }
   ],
   "source": [
    "# using of function\n",
    "sd = []\n",
    "for i in df_total.columns:\n",
    "    if df_total.dtypes[i]=='int64' or df_total.dtypes[i]=='float64':\n",
    "        sd.append(my_sd(df_total[i]))\n",
    "sd  "
   ]
  },
  {
   "cell_type": "markdown",
   "metadata": {},
   "source": [
    "## Step 2: Manipulate the dataframe"
   ]
  },
  {
   "cell_type": "markdown",
   "metadata": {},
   "source": [
    "##### 13. Turn the list `sd` into a new observation in your dataset."
   ]
  },
  {
   "cell_type": "code",
   "execution_count": 24,
   "metadata": {},
   "outputs": [
    {
     "data": {
      "text/plain": [
       "{'State': 'Standart deviation',\n",
       " 'Participation_ACT': [31.824175751231806],\n",
       " 'English_ACT': [2.3304876369363368],\n",
       " 'Math_ACT': [1.9624620273436781],\n",
       " 'Reading_ACT': [2.046902931484265],\n",
       " 'Science_ACT': [1.7222161451443672],\n",
       " 'Composite_ACT': [2.0007860815819893],\n",
       " 'Total_ACT': [8.00451621850747],\n",
       " 'Participation_SAT': [34.929070766645076],\n",
       " 'EBRW_SAT': [45.21697020437866],\n",
       " 'Math_SAT': [46.65713364485504],\n",
       " 'Total_SAT': [91.58351056778743]}"
      ]
     },
     "execution_count": 24,
     "metadata": {},
     "output_type": "execute_result"
    }
   ],
   "source": [
    "df_sd = {'State':'Standart deviation'}\n",
    "sd = []\n",
    "for i in df_total.columns:\n",
    "    if df_total.dtypes[i]=='int64' or df_total.dtypes[i]=='float64':\n",
    "        df_sd[i]=[my_sd(df_total[i])]\n",
    "df_sd        "
   ]
  },
  {
   "cell_type": "code",
   "execution_count": 25,
   "metadata": {},
   "outputs": [],
   "source": [
    "#pd.DataFrame(new_df)\n",
    "df_total = df_total.append(pd.DataFrame(df_sd), ignore_index=True)"
   ]
  },
  {
   "cell_type": "code",
   "execution_count": 26,
   "metadata": {},
   "outputs": [
    {
     "data": {
      "text/html": [
       "<div>\n",
       "<style scoped>\n",
       "    .dataframe tbody tr th:only-of-type {\n",
       "        vertical-align: middle;\n",
       "    }\n",
       "\n",
       "    .dataframe tbody tr th {\n",
       "        vertical-align: top;\n",
       "    }\n",
       "\n",
       "    .dataframe thead th {\n",
       "        text-align: right;\n",
       "    }\n",
       "</style>\n",
       "<table border=\"1\" class=\"dataframe\">\n",
       "  <thead>\n",
       "    <tr style=\"text-align: right;\">\n",
       "      <th></th>\n",
       "      <th>State</th>\n",
       "      <th>Participation_ACT</th>\n",
       "      <th>English_ACT</th>\n",
       "      <th>Math_ACT</th>\n",
       "      <th>Reading_ACT</th>\n",
       "      <th>Science_ACT</th>\n",
       "      <th>Composite_ACT</th>\n",
       "      <th>Total_ACT</th>\n",
       "      <th>Participation_SAT</th>\n",
       "      <th>EBRW_SAT</th>\n",
       "      <th>Math_SAT</th>\n",
       "      <th>Total_SAT</th>\n",
       "    </tr>\n",
       "  </thead>\n",
       "  <tbody>\n",
       "    <tr>\n",
       "      <th>47</th>\n",
       "      <td>Washington</td>\n",
       "      <td>29.000000</td>\n",
       "      <td>20.900000</td>\n",
       "      <td>21.900000</td>\n",
       "      <td>22.100000</td>\n",
       "      <td>22.000000</td>\n",
       "      <td>21.900000</td>\n",
       "      <td>86.900000</td>\n",
       "      <td>64.000000</td>\n",
       "      <td>541.00000</td>\n",
       "      <td>534.000000</td>\n",
       "      <td>1075.000000</td>\n",
       "    </tr>\n",
       "    <tr>\n",
       "      <th>48</th>\n",
       "      <td>West Virginia</td>\n",
       "      <td>69.000000</td>\n",
       "      <td>20.000000</td>\n",
       "      <td>19.400000</td>\n",
       "      <td>21.200000</td>\n",
       "      <td>20.500000</td>\n",
       "      <td>20.400000</td>\n",
       "      <td>81.100000</td>\n",
       "      <td>14.000000</td>\n",
       "      <td>558.00000</td>\n",
       "      <td>528.000000</td>\n",
       "      <td>1086.000000</td>\n",
       "    </tr>\n",
       "    <tr>\n",
       "      <th>49</th>\n",
       "      <td>Wisconsin</td>\n",
       "      <td>100.000000</td>\n",
       "      <td>19.700000</td>\n",
       "      <td>20.400000</td>\n",
       "      <td>20.600000</td>\n",
       "      <td>20.900000</td>\n",
       "      <td>20.500000</td>\n",
       "      <td>81.600000</td>\n",
       "      <td>3.000000</td>\n",
       "      <td>642.00000</td>\n",
       "      <td>649.000000</td>\n",
       "      <td>1291.000000</td>\n",
       "    </tr>\n",
       "    <tr>\n",
       "      <th>50</th>\n",
       "      <td>Wyoming</td>\n",
       "      <td>100.000000</td>\n",
       "      <td>19.400000</td>\n",
       "      <td>19.800000</td>\n",
       "      <td>20.800000</td>\n",
       "      <td>20.600000</td>\n",
       "      <td>20.200000</td>\n",
       "      <td>80.600000</td>\n",
       "      <td>3.000000</td>\n",
       "      <td>626.00000</td>\n",
       "      <td>604.000000</td>\n",
       "      <td>1230.000000</td>\n",
       "    </tr>\n",
       "    <tr>\n",
       "      <th>51</th>\n",
       "      <td>Standart deviation</td>\n",
       "      <td>31.824176</td>\n",
       "      <td>2.330488</td>\n",
       "      <td>1.962462</td>\n",
       "      <td>2.046903</td>\n",
       "      <td>1.722216</td>\n",
       "      <td>2.000786</td>\n",
       "      <td>8.004516</td>\n",
       "      <td>34.929071</td>\n",
       "      <td>45.21697</td>\n",
       "      <td>46.657134</td>\n",
       "      <td>91.583511</td>\n",
       "    </tr>\n",
       "  </tbody>\n",
       "</table>\n",
       "</div>"
      ],
      "text/plain": [
       "                 State  Participation_ACT  English_ACT   Math_ACT  \\\n",
       "47          Washington          29.000000    20.900000  21.900000   \n",
       "48       West Virginia          69.000000    20.000000  19.400000   \n",
       "49           Wisconsin         100.000000    19.700000  20.400000   \n",
       "50             Wyoming         100.000000    19.400000  19.800000   \n",
       "51  Standart deviation          31.824176     2.330488   1.962462   \n",
       "\n",
       "    Reading_ACT  Science_ACT  Composite_ACT  Total_ACT  Participation_SAT  \\\n",
       "47    22.100000    22.000000      21.900000  86.900000          64.000000   \n",
       "48    21.200000    20.500000      20.400000  81.100000          14.000000   \n",
       "49    20.600000    20.900000      20.500000  81.600000           3.000000   \n",
       "50    20.800000    20.600000      20.200000  80.600000           3.000000   \n",
       "51     2.046903     1.722216       2.000786   8.004516          34.929071   \n",
       "\n",
       "     EBRW_SAT    Math_SAT    Total_SAT  \n",
       "47  541.00000  534.000000  1075.000000  \n",
       "48  558.00000  528.000000  1086.000000  \n",
       "49  642.00000  649.000000  1291.000000  \n",
       "50  626.00000  604.000000  1230.000000  \n",
       "51   45.21697   46.657134    91.583511  "
      ]
     },
     "execution_count": 26,
     "metadata": {},
     "output_type": "execute_result"
    }
   ],
   "source": [
    "df_total.tail()"
   ]
  },
  {
   "cell_type": "code",
   "execution_count": 27,
   "metadata": {},
   "outputs": [],
   "source": [
    "# delete this new string, it's getting all the data worse and makes no sence\n",
    "df_total.drop(51,inplace=True)"
   ]
  },
  {
   "cell_type": "markdown",
   "metadata": {},
   "source": [
    "##### 14. Sort the dataframe by the values in a numeric column (e.g. observations descending by SAT participation rate)"
   ]
  },
  {
   "cell_type": "code",
   "execution_count": 28,
   "metadata": {},
   "outputs": [
    {
     "data": {
      "text/html": [
       "<div>\n",
       "<style scoped>\n",
       "    .dataframe tbody tr th:only-of-type {\n",
       "        vertical-align: middle;\n",
       "    }\n",
       "\n",
       "    .dataframe tbody tr th {\n",
       "        vertical-align: top;\n",
       "    }\n",
       "\n",
       "    .dataframe thead th {\n",
       "        text-align: right;\n",
       "    }\n",
       "</style>\n",
       "<table border=\"1\" class=\"dataframe\">\n",
       "  <thead>\n",
       "    <tr style=\"text-align: right;\">\n",
       "      <th></th>\n",
       "      <th>State</th>\n",
       "      <th>Participation_ACT</th>\n",
       "      <th>English_ACT</th>\n",
       "      <th>Math_ACT</th>\n",
       "      <th>Reading_ACT</th>\n",
       "      <th>Science_ACT</th>\n",
       "      <th>Composite_ACT</th>\n",
       "      <th>Total_ACT</th>\n",
       "      <th>Participation_SAT</th>\n",
       "      <th>EBRW_SAT</th>\n",
       "      <th>Math_SAT</th>\n",
       "      <th>Total_SAT</th>\n",
       "    </tr>\n",
       "  </thead>\n",
       "  <tbody>\n",
       "    <tr>\n",
       "      <th>19</th>\n",
       "      <td>Maine</td>\n",
       "      <td>8.0</td>\n",
       "      <td>24.2</td>\n",
       "      <td>24.0</td>\n",
       "      <td>24.8</td>\n",
       "      <td>23.7</td>\n",
       "      <td>24.3</td>\n",
       "      <td>96.7</td>\n",
       "      <td>95.0</td>\n",
       "      <td>513.0</td>\n",
       "      <td>499.0</td>\n",
       "      <td>1012.0</td>\n",
       "    </tr>\n",
       "    <tr>\n",
       "      <th>29</th>\n",
       "      <td>New Hampshire</td>\n",
       "      <td>18.0</td>\n",
       "      <td>25.4</td>\n",
       "      <td>25.1</td>\n",
       "      <td>26.0</td>\n",
       "      <td>24.9</td>\n",
       "      <td>25.5</td>\n",
       "      <td>101.4</td>\n",
       "      <td>96.0</td>\n",
       "      <td>532.0</td>\n",
       "      <td>520.0</td>\n",
       "      <td>1052.0</td>\n",
       "    </tr>\n",
       "    <tr>\n",
       "      <th>7</th>\n",
       "      <td>Delaware</td>\n",
       "      <td>18.0</td>\n",
       "      <td>24.1</td>\n",
       "      <td>23.4</td>\n",
       "      <td>24.8</td>\n",
       "      <td>23.6</td>\n",
       "      <td>24.1</td>\n",
       "      <td>95.9</td>\n",
       "      <td>100.0</td>\n",
       "      <td>503.0</td>\n",
       "      <td>492.0</td>\n",
       "      <td>996.0</td>\n",
       "    </tr>\n",
       "    <tr>\n",
       "      <th>39</th>\n",
       "      <td>Rhode Island</td>\n",
       "      <td>21.0</td>\n",
       "      <td>24.0</td>\n",
       "      <td>23.3</td>\n",
       "      <td>24.7</td>\n",
       "      <td>23.4</td>\n",
       "      <td>24.0</td>\n",
       "      <td>95.4</td>\n",
       "      <td>71.0</td>\n",
       "      <td>539.0</td>\n",
       "      <td>524.0</td>\n",
       "      <td>1062.0</td>\n",
       "    </tr>\n",
       "    <tr>\n",
       "      <th>38</th>\n",
       "      <td>Pennsylvania</td>\n",
       "      <td>23.0</td>\n",
       "      <td>23.4</td>\n",
       "      <td>23.4</td>\n",
       "      <td>24.2</td>\n",
       "      <td>23.3</td>\n",
       "      <td>23.7</td>\n",
       "      <td>94.3</td>\n",
       "      <td>65.0</td>\n",
       "      <td>540.0</td>\n",
       "      <td>531.0</td>\n",
       "      <td>1071.0</td>\n",
       "    </tr>\n",
       "  </tbody>\n",
       "</table>\n",
       "</div>"
      ],
      "text/plain": [
       "            State  Participation_ACT  English_ACT  Math_ACT  Reading_ACT  \\\n",
       "19          Maine                8.0         24.2      24.0         24.8   \n",
       "29  New Hampshire               18.0         25.4      25.1         26.0   \n",
       "7        Delaware               18.0         24.1      23.4         24.8   \n",
       "39   Rhode Island               21.0         24.0      23.3         24.7   \n",
       "38   Pennsylvania               23.0         23.4      23.4         24.2   \n",
       "\n",
       "    Science_ACT  Composite_ACT  Total_ACT  Participation_SAT  EBRW_SAT  \\\n",
       "19         23.7           24.3       96.7               95.0     513.0   \n",
       "29         24.9           25.5      101.4               96.0     532.0   \n",
       "7          23.6           24.1       95.9              100.0     503.0   \n",
       "39         23.4           24.0       95.4               71.0     539.0   \n",
       "38         23.3           23.7       94.3               65.0     540.0   \n",
       "\n",
       "    Math_SAT  Total_SAT  \n",
       "19     499.0     1012.0  \n",
       "29     520.0     1052.0  \n",
       "7      492.0      996.0  \n",
       "39     524.0     1062.0  \n",
       "38     531.0     1071.0  "
      ]
     },
     "execution_count": 28,
     "metadata": {},
     "output_type": "execute_result"
    }
   ],
   "source": [
    "# sorting by participation\n",
    "df_total.sort_values(['Participation_ACT'],inplace=True)\n",
    "df_total.head()"
   ]
  },
  {
   "cell_type": "code",
   "execution_count": 29,
   "metadata": {},
   "outputs": [
    {
     "data": {
      "text/html": [
       "<div>\n",
       "<style scoped>\n",
       "    .dataframe tbody tr th:only-of-type {\n",
       "        vertical-align: middle;\n",
       "    }\n",
       "\n",
       "    .dataframe tbody tr th {\n",
       "        vertical-align: top;\n",
       "    }\n",
       "\n",
       "    .dataframe thead th {\n",
       "        text-align: right;\n",
       "    }\n",
       "</style>\n",
       "<table border=\"1\" class=\"dataframe\">\n",
       "  <thead>\n",
       "    <tr style=\"text-align: right;\">\n",
       "      <th></th>\n",
       "      <th>State</th>\n",
       "      <th>Participation_ACT</th>\n",
       "      <th>English_ACT</th>\n",
       "      <th>Math_ACT</th>\n",
       "      <th>Reading_ACT</th>\n",
       "      <th>Science_ACT</th>\n",
       "      <th>Composite_ACT</th>\n",
       "      <th>Total_ACT</th>\n",
       "      <th>Participation_SAT</th>\n",
       "      <th>EBRW_SAT</th>\n",
       "      <th>Math_SAT</th>\n",
       "      <th>Total_SAT</th>\n",
       "    </tr>\n",
       "  </thead>\n",
       "  <tbody>\n",
       "    <tr>\n",
       "      <th>0</th>\n",
       "      <td>Alabama</td>\n",
       "      <td>100.0</td>\n",
       "      <td>18.9</td>\n",
       "      <td>18.4</td>\n",
       "      <td>19.7</td>\n",
       "      <td>19.4</td>\n",
       "      <td>19.2</td>\n",
       "      <td>76.4</td>\n",
       "      <td>5.0</td>\n",
       "      <td>593.0</td>\n",
       "      <td>572.0</td>\n",
       "      <td>1165.0</td>\n",
       "    </tr>\n",
       "    <tr>\n",
       "      <th>1</th>\n",
       "      <td>Alaska</td>\n",
       "      <td>65.0</td>\n",
       "      <td>18.7</td>\n",
       "      <td>19.8</td>\n",
       "      <td>20.4</td>\n",
       "      <td>19.9</td>\n",
       "      <td>19.8</td>\n",
       "      <td>78.8</td>\n",
       "      <td>38.0</td>\n",
       "      <td>547.0</td>\n",
       "      <td>533.0</td>\n",
       "      <td>1080.0</td>\n",
       "    </tr>\n",
       "    <tr>\n",
       "      <th>2</th>\n",
       "      <td>Arizona</td>\n",
       "      <td>62.0</td>\n",
       "      <td>18.6</td>\n",
       "      <td>19.8</td>\n",
       "      <td>20.1</td>\n",
       "      <td>19.8</td>\n",
       "      <td>19.7</td>\n",
       "      <td>78.3</td>\n",
       "      <td>30.0</td>\n",
       "      <td>563.0</td>\n",
       "      <td>553.0</td>\n",
       "      <td>1116.0</td>\n",
       "    </tr>\n",
       "    <tr>\n",
       "      <th>3</th>\n",
       "      <td>Arkansas</td>\n",
       "      <td>100.0</td>\n",
       "      <td>18.9</td>\n",
       "      <td>19.0</td>\n",
       "      <td>19.7</td>\n",
       "      <td>19.5</td>\n",
       "      <td>19.4</td>\n",
       "      <td>77.1</td>\n",
       "      <td>3.0</td>\n",
       "      <td>614.0</td>\n",
       "      <td>594.0</td>\n",
       "      <td>1208.0</td>\n",
       "    </tr>\n",
       "    <tr>\n",
       "      <th>4</th>\n",
       "      <td>California</td>\n",
       "      <td>31.0</td>\n",
       "      <td>22.5</td>\n",
       "      <td>22.7</td>\n",
       "      <td>23.1</td>\n",
       "      <td>22.2</td>\n",
       "      <td>22.8</td>\n",
       "      <td>90.5</td>\n",
       "      <td>53.0</td>\n",
       "      <td>531.0</td>\n",
       "      <td>524.0</td>\n",
       "      <td>1055.0</td>\n",
       "    </tr>\n",
       "  </tbody>\n",
       "</table>\n",
       "</div>"
      ],
      "text/plain": [
       "        State  Participation_ACT  English_ACT  Math_ACT  Reading_ACT  \\\n",
       "0     Alabama              100.0         18.9      18.4         19.7   \n",
       "1      Alaska               65.0         18.7      19.8         20.4   \n",
       "2     Arizona               62.0         18.6      19.8         20.1   \n",
       "3    Arkansas              100.0         18.9      19.0         19.7   \n",
       "4  California               31.0         22.5      22.7         23.1   \n",
       "\n",
       "   Science_ACT  Composite_ACT  Total_ACT  Participation_SAT  EBRW_SAT  \\\n",
       "0         19.4           19.2       76.4                5.0     593.0   \n",
       "1         19.9           19.8       78.8               38.0     547.0   \n",
       "2         19.8           19.7       78.3               30.0     563.0   \n",
       "3         19.5           19.4       77.1                3.0     614.0   \n",
       "4         22.2           22.8       90.5               53.0     531.0   \n",
       "\n",
       "   Math_SAT  Total_SAT  \n",
       "0     572.0     1165.0  \n",
       "1     533.0     1080.0  \n",
       "2     553.0     1116.0  \n",
       "3     594.0     1208.0  \n",
       "4     524.0     1055.0  "
      ]
     },
     "execution_count": 29,
     "metadata": {},
     "output_type": "execute_result"
    }
   ],
   "source": [
    "# sorting by index\n",
    "df_total.sort_index(inplace = True)\n",
    "df_total.head()"
   ]
  },
  {
   "cell_type": "markdown",
   "metadata": {},
   "source": [
    "##### 15. Use a boolean filter to display only observations with a score above a certain threshold (e.g. only states with a participation rate above 50%)"
   ]
  },
  {
   "cell_type": "code",
   "execution_count": 30,
   "metadata": {},
   "outputs": [
    {
     "data": {
      "text/html": [
       "<div>\n",
       "<style scoped>\n",
       "    .dataframe tbody tr th:only-of-type {\n",
       "        vertical-align: middle;\n",
       "    }\n",
       "\n",
       "    .dataframe tbody tr th {\n",
       "        vertical-align: top;\n",
       "    }\n",
       "\n",
       "    .dataframe thead th {\n",
       "        text-align: right;\n",
       "    }\n",
       "</style>\n",
       "<table border=\"1\" class=\"dataframe\">\n",
       "  <thead>\n",
       "    <tr style=\"text-align: right;\">\n",
       "      <th></th>\n",
       "      <th>State</th>\n",
       "      <th>Participation_ACT</th>\n",
       "      <th>English_ACT</th>\n",
       "      <th>Math_ACT</th>\n",
       "      <th>Reading_ACT</th>\n",
       "      <th>Science_ACT</th>\n",
       "      <th>Composite_ACT</th>\n",
       "      <th>Total_ACT</th>\n",
       "      <th>Participation_SAT</th>\n",
       "      <th>EBRW_SAT</th>\n",
       "      <th>Math_SAT</th>\n",
       "      <th>Total_SAT</th>\n",
       "    </tr>\n",
       "  </thead>\n",
       "  <tbody>\n",
       "    <tr>\n",
       "      <th>13</th>\n",
       "      <td>Illinois</td>\n",
       "      <td>93.0</td>\n",
       "      <td>21.0</td>\n",
       "      <td>21.2</td>\n",
       "      <td>21.6</td>\n",
       "      <td>21.3</td>\n",
       "      <td>21.4</td>\n",
       "      <td>85.1</td>\n",
       "      <td>9.0</td>\n",
       "      <td>559.0</td>\n",
       "      <td>556.0</td>\n",
       "      <td>1115.0</td>\n",
       "    </tr>\n",
       "    <tr>\n",
       "      <th>15</th>\n",
       "      <td>Iowa</td>\n",
       "      <td>67.0</td>\n",
       "      <td>21.2</td>\n",
       "      <td>21.3</td>\n",
       "      <td>22.6</td>\n",
       "      <td>22.1</td>\n",
       "      <td>21.9</td>\n",
       "      <td>87.2</td>\n",
       "      <td>2.0</td>\n",
       "      <td>641.0</td>\n",
       "      <td>635.0</td>\n",
       "      <td>1275.0</td>\n",
       "    </tr>\n",
       "    <tr>\n",
       "      <th>16</th>\n",
       "      <td>Kansas</td>\n",
       "      <td>73.0</td>\n",
       "      <td>21.1</td>\n",
       "      <td>21.3</td>\n",
       "      <td>22.3</td>\n",
       "      <td>21.7</td>\n",
       "      <td>21.7</td>\n",
       "      <td>86.4</td>\n",
       "      <td>4.0</td>\n",
       "      <td>632.0</td>\n",
       "      <td>628.0</td>\n",
       "      <td>1260.0</td>\n",
       "    </tr>\n",
       "    <tr>\n",
       "      <th>23</th>\n",
       "      <td>Minnesota</td>\n",
       "      <td>100.0</td>\n",
       "      <td>20.4</td>\n",
       "      <td>21.5</td>\n",
       "      <td>21.8</td>\n",
       "      <td>21.6</td>\n",
       "      <td>21.5</td>\n",
       "      <td>85.3</td>\n",
       "      <td>3.0</td>\n",
       "      <td>644.0</td>\n",
       "      <td>651.0</td>\n",
       "      <td>1295.0</td>\n",
       "    </tr>\n",
       "    <tr>\n",
       "      <th>35</th>\n",
       "      <td>Ohio</td>\n",
       "      <td>75.0</td>\n",
       "      <td>21.2</td>\n",
       "      <td>21.6</td>\n",
       "      <td>22.5</td>\n",
       "      <td>22.0</td>\n",
       "      <td>22.0</td>\n",
       "      <td>87.3</td>\n",
       "      <td>12.0</td>\n",
       "      <td>578.0</td>\n",
       "      <td>570.0</td>\n",
       "      <td>1149.0</td>\n",
       "    </tr>\n",
       "    <tr>\n",
       "      <th>41</th>\n",
       "      <td>South Dakota</td>\n",
       "      <td>80.0</td>\n",
       "      <td>20.7</td>\n",
       "      <td>21.5</td>\n",
       "      <td>22.3</td>\n",
       "      <td>22.0</td>\n",
       "      <td>21.8</td>\n",
       "      <td>86.5</td>\n",
       "      <td>3.0</td>\n",
       "      <td>612.0</td>\n",
       "      <td>603.0</td>\n",
       "      <td>1216.0</td>\n",
       "    </tr>\n",
       "  </tbody>\n",
       "</table>\n",
       "</div>"
      ],
      "text/plain": [
       "           State  Participation_ACT  English_ACT  Math_ACT  Reading_ACT  \\\n",
       "13      Illinois               93.0         21.0      21.2         21.6   \n",
       "15          Iowa               67.0         21.2      21.3         22.6   \n",
       "16        Kansas               73.0         21.1      21.3         22.3   \n",
       "23     Minnesota              100.0         20.4      21.5         21.8   \n",
       "35          Ohio               75.0         21.2      21.6         22.5   \n",
       "41  South Dakota               80.0         20.7      21.5         22.3   \n",
       "\n",
       "    Science_ACT  Composite_ACT  Total_ACT  Participation_SAT  EBRW_SAT  \\\n",
       "13         21.3           21.4       85.1                9.0     559.0   \n",
       "15         22.1           21.9       87.2                2.0     641.0   \n",
       "16         21.7           21.7       86.4                4.0     632.0   \n",
       "23         21.6           21.5       85.3                3.0     644.0   \n",
       "35         22.0           22.0       87.3               12.0     578.0   \n",
       "41         22.0           21.8       86.5                3.0     612.0   \n",
       "\n",
       "    Math_SAT  Total_SAT  \n",
       "13     556.0     1115.0  \n",
       "15     635.0     1275.0  \n",
       "16     628.0     1260.0  \n",
       "23     651.0     1295.0  \n",
       "35     570.0     1149.0  \n",
       "41     603.0     1216.0  "
      ]
     },
     "execution_count": 30,
     "metadata": {},
     "output_type": "execute_result"
    }
   ],
   "source": [
    "# filtering by participation and Math (ACT)\n",
    "df_total[(df_total['Participation_ACT']>50)&(df_total['Math_ACT']>21)]"
   ]
  },
  {
   "cell_type": "markdown",
   "metadata": {},
   "source": [
    "## Step 3: Visualize the data"
   ]
  },
  {
   "cell_type": "markdown",
   "metadata": {
    "collapsed": true
   },
   "source": [
    "##### 16. Using MatPlotLib and PyPlot, plot the distribution of the Rate columns for both SAT and ACT using histograms. (You should have two histograms. You might find [this link](https://matplotlib.org/users/pyplot_tutorial.html#working-with-multiple-figures-and-axes) helpful in organizing one plot above the other.) "
   ]
  },
  {
   "cell_type": "code",
   "execution_count": 31,
   "metadata": {},
   "outputs": [
    {
     "data": {
      "text/plain": [
       "<matplotlib.axes._subplots.AxesSubplot at 0x7f1d55a626a0>"
      ]
     },
     "execution_count": 31,
     "metadata": {},
     "output_type": "execute_result"
    }
   ],
   "source": [
    "import matplotlib.pyplot as plt\n",
    "\n",
    "# plotting participation of ACT ant SAT\n",
    "figure,ax = plt.subplots(nrows=1,ncols=2,figsize=(16,7))\n",
    "df_total['Participation_ACT'].plot(ax=ax[0],title=\"Participation, ACT\",kind='hist')\n",
    "df_total['Participation_SAT'].plot(ax=ax[1],title=\"Participation, SAT\",kind='hist')"
   ]
  },
  {
   "cell_type": "markdown",
   "metadata": {},
   "source": [
    "##### 17. Plot the Math(s) distributions from both data sets."
   ]
  },
  {
   "cell_type": "code",
   "execution_count": 32,
   "metadata": {},
   "outputs": [
    {
     "data": {
      "text/plain": [
       "Text(0.5,1,'Math, comparing')"
      ]
     },
     "execution_count": 32,
     "metadata": {},
     "output_type": "execute_result"
    },
    {
     "data": {
      "image/png": "[encoded data removed]",
      "text/plain": [
       "<Figure size 1152x360 with 3 Axes>"
      ]
     },
     "metadata": {},
     "output_type": "display_data"
    }
   ],
   "source": [
    "# plotting Math results\n",
    "# we can see that there is no correlation between Math_ACT and Math_SAT\n",
    "figure,ax = plt.subplots(nrows=1,ncols=3,figsize=(16,5))\n",
    "df_total['Math_ACT'].plot(ax=ax[0],title=\"Math, ACT\",kind='hist')\n",
    "df_total['Math_SAT'].plot(ax=ax[1],title=\"Math, SAT\",kind='hist')\n",
    "plt.scatter(df_total['Math_ACT'],df_total['Math_SAT'])\n",
    "plt.ylabel('SAT')\n",
    "plt.xlabel('ACT')\n",
    "plt.title('Math, comparing')"
   ]
  },
  {
   "cell_type": "markdown",
   "metadata": {},
   "source": [
    "##### 18. Plot the Verbal distributions from both data sets."
   ]
  },
  {
   "cell_type": "code",
   "execution_count": 33,
   "metadata": {},
   "outputs": [
    {
     "data": {
      "text/plain": [
       "Text(0.5,1,'Reading, comparing')"
      ]
     },
     "execution_count": 33,
     "metadata": {},
     "output_type": "execute_result"
    },
    {
     "data": {
      "image/png": "[encoded data removed]",
      "text/plain": [
       "<Figure size 1152x360 with 3 Axes>"
      ]
     },
     "metadata": {},
     "output_type": "display_data"
    }
   ],
   "source": [
    "# plotting reading results\n",
    "# we can see there is no correlation between these two values\n",
    "figure,ax = plt.subplots(nrows=1,ncols=3,figsize=(16,5))\n",
    "df_total['Reading_ACT'].plot(ax=ax[0],title=\"Reading, ACT\",kind='hist')\n",
    "df_total['EBRW_SAT'].plot(ax=ax[1],title=\"Evidence-Based Reading and Writing, SAT\",kind='hist')\n",
    "plt.scatter(df_total['Reading_ACT'],df_total['EBRW_SAT'])\n",
    "plt.ylabel('SAT')\n",
    "plt.xlabel('ACT')\n",
    "plt.title('Reading, comparing')"
   ]
  },
  {
   "cell_type": "code",
   "execution_count": 34,
   "metadata": {},
   "outputs": [
    {
     "data": {
      "text/plain": [
       "Text(0.5,1,'English, comparing')"
      ]
     },
     "execution_count": 34,
     "metadata": {},
     "output_type": "execute_result"
    },
    {
     "data": {
      "image/png": "[encoded data removed]",
      "text/plain": [
       "<Figure size 1152x360 with 3 Axes>"
      ]
     },
     "metadata": {},
     "output_type": "display_data"
    }
   ],
   "source": [
    "# plotting English and EBRW results\n",
    "# we can see there is still no correlation between these two values\n",
    "figure,ax = plt.subplots(nrows=1,ncols=3,figsize=(16,5))\n",
    "df_total['English_ACT'].plot(ax=ax[0],title=\"English, ACT\",kind='hist')\n",
    "df_total['EBRW_SAT'].plot(ax=ax[1],title=\"Evidence-Based Reading and Writing, SAT\",kind='hist')\n",
    "plt.scatter(df_total['English_ACT'],df_total['EBRW_SAT'])\n",
    "plt.ylabel('SAT')\n",
    "plt.xlabel('ACT')\n",
    "plt.title('English, comparing')"
   ]
  },
  {
   "cell_type": "markdown",
   "metadata": {},
   "source": [
    "##### 19. When we make assumptions about how data are distributed, what is the most common assumption?"
   ]
  },
  {
   "cell_type": "code",
   "execution_count": 35,
   "metadata": {},
   "outputs": [],
   "source": [
    "# Normal distribution is the most common distribution for values lik IQ, for instance, as well as for grades"
   ]
  },
  {
   "cell_type": "markdown",
   "metadata": {},
   "source": [
    "##### 20. Does this assumption hold true for any of our columns? Which?"
   ]
  },
  {
   "cell_type": "code",
   "execution_count": 36,
   "metadata": {},
   "outputs": [],
   "source": [
    "# No one of our columns is normally distributed, graphics depict it, and we can prove it below."
   ]
  },
  {
   "cell_type": "markdown",
   "metadata": {},
   "source": [
    "##### 21. Plot some scatterplots examining relationships between all variables."
   ]
  },
  {
   "cell_type": "code",
   "execution_count": 76,
   "metadata": {},
   "outputs": [
    {
     "data": {
      "image/png": "[encoded data removed]",
      "text/plain": [
       "<Figure size 432x288 with 1 Axes>"
      ]
     },
     "metadata": {},
     "output_type": "display_data"
    },
    {
     "data": {
      "image/png": "[encoded data removed]",
      "text/plain": [
       "<Figure size 432x288 with 1 Axes>"
      ]
     },
     "metadata": {},
     "output_type": "display_data"
    }
   ],
   "source": [
    "plt.scatter(df_act['Participation'],df_act['Total'])\n",
    "plt.ylabel('Total')\n",
    "plt.xlabel('Participation')\n",
    "plt.title('ACT (corr = -0.856612)')\n",
    "plt.show()\n",
    "\n",
    "plt.scatter(df_sat['Participation'],df_sat['Total'])\n",
    "plt.ylabel('Total')\n",
    "plt.xlabel('Participation')\n",
    "plt.title('SAT (corr = -0.867540)')\n",
    "plt.show()"
   ]
  },
  {
   "cell_type": "code",
   "execution_count": 38,
   "metadata": {
    "scrolled": true
   },
   "outputs": [
    {
     "data": {
      "text/plain": [
       "<seaborn.axisgrid.PairGrid at 0x7f1d550fe668>"
      ]
     },
     "execution_count": 38,
     "metadata": {},
     "output_type": "execute_result"
    },
    {
     "data": {
      "image/png": "[encoded data removed]",
      "text/plain": [
       "<Figure size 1260x1260 with 56 Axes>"
      ]
     },
     "metadata": {},
     "output_type": "display_data"
    }
   ],
   "source": [
    "import seaborn as sns\n",
    "# plotting relationships between ACT variables\n",
    "sns.pairplot(data=df_act)"
   ]
  },
  {
   "cell_type": "code",
   "execution_count": 78,
   "metadata": {},
   "outputs": [
    {
     "data": {
      "text/plain": [
       "<seaborn.axisgrid.PairGrid at 0x7f1d42cbeba8>"
      ]
     },
     "execution_count": 78,
     "metadata": {},
     "output_type": "execute_result"
    },
    {
     "data": {
      "image/png": "[encoded data removed]",
      "text/plain": [
       "<Figure size 900x900 with 30 Axes>"
      ]
     },
     "metadata": {},
     "output_type": "display_data"
    }
   ],
   "source": [
    "sns.pairplot(data=df_act[['English','Math','Reading','Science','Total']])"
   ]
  },
  {
   "cell_type": "code",
   "execution_count": 39,
   "metadata": {},
   "outputs": [
    {
     "data": {
      "text/plain": [
       "<seaborn.axisgrid.PairGrid at 0x7f1d4ab216a0>"
      ]
     },
     "execution_count": 39,
     "metadata": {},
     "output_type": "execute_result"
    },
    {
     "data": {
      "image/png": "[encoded data removed]",
      "text/plain": [
       "<Figure size 720x720 with 20 Axes>"
      ]
     },
     "metadata": {},
     "output_type": "display_data"
    }
   ],
   "source": [
    "# plotting relationship between SAT variables\n",
    "sns.pairplot(data=df_sat)"
   ]
  },
  {
   "cell_type": "code",
   "execution_count": 80,
   "metadata": {},
   "outputs": [
    {
     "data": {
      "text/plain": [
       "<seaborn.axisgrid.PairGrid at 0x7f1d422fd390>"
      ]
     },
     "execution_count": 80,
     "metadata": {},
     "output_type": "execute_result"
    },
    {
     "data": {
      "image/png": "[encoded data removed]",
      "text/plain": [
       "<Figure size 540x540 with 12 Axes>"
      ]
     },
     "metadata": {},
     "output_type": "display_data"
    }
   ],
   "source": [
    "sns.pairplot(data=df_sat[['Math','Evidence-Based Reading and Writing','Total']])"
   ]
  },
  {
   "cell_type": "markdown",
   "metadata": {},
   "source": [
    "##### 22. Are there any interesting relationships to note?"
   ]
  },
  {
   "cell_type": "code",
   "execution_count": 40,
   "metadata": {},
   "outputs": [],
   "source": [
    "# 1. Average grades for all subjects (into SAT and ACT separately) are linearly dependent on each other\n",
    "# 2. What is really interesting is that there is negative correlations between participation and average grade.\n",
    "# Perhaps the reason is that only good students decided to pass an optional exam.\n",
    "# I believe it is optional if it has low participation rate."
   ]
  },
  {
   "cell_type": "markdown",
   "metadata": {},
   "source": [
    "##### 23. Create box plots for each variable. "
   ]
  },
  {
   "cell_type": "code",
   "execution_count": 63,
   "metadata": {},
   "outputs": [
    {
     "data": {
      "image/png": "[encoded data removed]",
      "text/plain": [
       "<Figure size 1080x360 with 4 Axes>"
      ]
     },
     "metadata": {},
     "output_type": "display_data"
    }
   ],
   "source": [
    "# creating box plots of average grades only, not for participation and composite\n",
    "figure,ax = plt.subplots(1, 4, sharey=True, figsize=(15, 5))\n",
    "for i,name in enumerate(df_act.columns[2:-2]):\n",
    "    sns.boxplot(data=df_act[name],ax=ax[i])"
   ]
  },
  {
   "cell_type": "code",
   "execution_count": 64,
   "metadata": {},
   "outputs": [
    {
     "data": {
      "image/png": "[encoded data removed]",
      "text/plain": [
       "<Figure size 1080x360 with 2 Axes>"
      ]
     },
     "metadata": {},
     "output_type": "display_data"
    }
   ],
   "source": [
    "# creating box plots of average grades only, not for participation or composite and total grade\n",
    "figure,ax = plt.subplots(1, 2, sharey=True, figsize=(15, 5))\n",
    "for i,name in enumerate(df_sat.columns[2:-2]):\n",
    "    sns.boxplot(data=df_sat[name],ax=ax[i])"
   ]
  },
  {
   "cell_type": "markdown",
   "metadata": {},
   "source": [
    "##### BONUS: Using Tableau, create a heat map for each variable using a map of the US. "
   ]
  },
  {
   "cell_type": "markdown",
   "metadata": {},
   "source": [
    "Total score https://public.tableau.com/views/ACTSATscore/Dashboard1"
   ]
  },
  {
   "cell_type": "markdown",
   "metadata": {},
   "source": [
    "Participation https://public.tableau.com/views/ACTSAT/Dashboard1"
   ]
  },
  {
   "cell_type": "markdown",
   "metadata": {},
   "source": [
    "Weakest subjects https://public.tableau.com/views/ACTSATsubjects/ACTSAT"
   ]
  },
  {
   "cell_type": "markdown",
   "metadata": {},
   "source": [
    "## Step 4: Descriptive and Inferential Statistics"
   ]
  },
  {
   "cell_type": "markdown",
   "metadata": {},
   "source": [
    "##### 24. Summarize each distribution. As data scientists, be sure to back up these summaries with statistics. (Hint: What are the three things we care about when describing distributions?)"
   ]
  },
  {
   "cell_type": "code",
   "execution_count": 65,
   "metadata": {},
   "outputs": [
    {
     "name": "stdout",
     "output_type": "stream",
     "text": [
      "Participation_ACT is NOT normally distributed; mean 65.25; std 32.14; skew -0.19\n",
      "English_ACT is NOT normally distributed; mean 20.93; std 2.35; skew 0.34\n",
      "Math_ACT is NOT normally distributed; mean 21.18; std 1.98; skew 0.32\n",
      "Reading_ACT is NOT normally distributed; mean 22.01; std 2.07; skew 0.26\n",
      "Science_ACT is NOT normally distributed; mean 21.45; std 1.74; skew 0.21\n",
      "Composite_ACT is NOT normally distributed; mean 21.52; std 2.02; skew 0.31\n",
      "Total_ACT is NOT normally distributed; mean 85.58; std 8.08; skew 0.31\n",
      "Participation_SAT is NOT normally distributed; mean 39.80; std 35.28; skew 0.34\n",
      "EBRW_SAT is NOT normally distributed; mean 569.12; std 45.67; skew 0.26\n",
      "Math_SAT is NOT normally distributed; mean 556.88; std 47.12; skew 0.35\n",
      "Total_SAT is NOT normally distributed; mean 1126.10; std 92.49; skew 0.30\n"
     ]
    }
   ],
   "source": [
    "# create a function that give us a description of each distribution of numeric values;\n",
    "# we need to calculate skew and kurtosis of each distribution, as well as theirs dispersion;\n",
    "# if mod(skew)<=sqrt(dispersion(skew)) and mod(kurtosis)<=sqrt(dispersion(kurtosis)), we suppose, that our\n",
    "# distribution is normal\n",
    "import scipy.stats as stats\n",
    "def description(dataframe,column):\n",
    "    n = dataframe[column].describe()['count']\n",
    "    mean = dataframe[column].describe()['mean']\n",
    "    std = dataframe[column].describe()['std']\n",
    "    skew = stats.skew(dataframe[column])\n",
    "    dis_skew = 6*(n-1)/((n+1)*(n+3))\n",
    "    kurtosis = stats.kurtosis(dataframe[column])\n",
    "    dis_kurtosis = 24*(n-2)*(n-3)*n/((n+3)*(n+5)*(n-1)**2)\n",
    "    norm_dist = (np.abs(skew)<=np.sqrt(dis_skew)) and (np.abs(kurtosis)<=np.sqrt(dis_kurtosis))\n",
    "    print('{} is {}normally distributed; mean {:.2f}; std {:.2f}; skew {:.2f}'.format(column,\n",
    "                                                                          '' if norm_dist else 'NOT ',\n",
    "                                                                          mean,\n",
    "                                                                          std,\n",
    "                                                                          skew))\n",
    "          \n",
    "for i in df_total.columns[1:]:\n",
    "    description(df_total,i)"
   ]
  },
  {
   "cell_type": "code",
   "execution_count": 66,
   "metadata": {},
   "outputs": [
    {
     "name": "stdout",
     "output_type": "stream",
     "text": [
      "Participation_ACT is NOT normally distributed\n",
      "English_ACT is normally distributed\n",
      "Math_ACT is NOT normally distributed\n",
      "Reading_ACT is NOT normally distributed\n",
      "Science_ACT is normally distributed\n",
      "Composite_ACT is NOT normally distributed\n",
      "Total_ACT is NOT normally distributed\n",
      "Participation_SAT is NOT normally distributed\n",
      "EBRW_SAT is NOT normally distributed\n",
      "Math_SAT is normally distributed\n",
      "Total_SAT is NOT normally distributed\n"
     ]
    }
   ],
   "source": [
    "# let's try to do it other way, using stats\n",
    "alpha = 0.05\n",
    "for i in df_total.columns[1:]:\n",
    "    print('{} is {}normally distributed'.format(i,'' if stats.normaltest(df_total[i])[1]>alpha else 'NOT '))"
   ]
  },
  {
   "cell_type": "code",
   "execution_count": 67,
   "metadata": {},
   "outputs": [],
   "source": [
    "# We can se above that some of our samples (English_ACT,Science_ACT and Math_SAT) are normally distributed.\n",
    "# It's not true, that means that we can't rely on statistics only, we need to see the shape of distribution as well."
   ]
  },
  {
   "cell_type": "markdown",
   "metadata": {},
   "source": [
    "##### 25. Summarize each relationship. Be sure to back up these summaries with statistics."
   ]
  },
  {
   "cell_type": "code",
   "execution_count": 68,
   "metadata": {},
   "outputs": [
    {
     "data": {
      "text/html": [
       "<div>\n",
       "<style scoped>\n",
       "    .dataframe tbody tr th:only-of-type {\n",
       "        vertical-align: middle;\n",
       "    }\n",
       "\n",
       "    .dataframe tbody tr th {\n",
       "        vertical-align: top;\n",
       "    }\n",
       "\n",
       "    .dataframe thead th {\n",
       "        text-align: right;\n",
       "    }\n",
       "</style>\n",
       "<table border=\"1\" class=\"dataframe\">\n",
       "  <thead>\n",
       "    <tr style=\"text-align: right;\">\n",
       "      <th></th>\n",
       "      <th>Participation</th>\n",
       "      <th>English</th>\n",
       "      <th>Math</th>\n",
       "      <th>Reading</th>\n",
       "      <th>Science</th>\n",
       "      <th>Composite</th>\n",
       "      <th>Total</th>\n",
       "    </tr>\n",
       "  </thead>\n",
       "  <tbody>\n",
       "    <tr>\n",
       "      <th>Participation</th>\n",
       "      <td>1.000000</td>\n",
       "      <td>-0.841826</td>\n",
       "      <td>-0.859609</td>\n",
       "      <td>-0.864694</td>\n",
       "      <td>-0.834994</td>\n",
       "      <td>-0.856530</td>\n",
       "      <td>-0.856612</td>\n",
       "    </tr>\n",
       "    <tr>\n",
       "      <th>English</th>\n",
       "      <td>-0.841826</td>\n",
       "      <td>1.000000</td>\n",
       "      <td>0.967838</td>\n",
       "      <td>0.986012</td>\n",
       "      <td>0.980068</td>\n",
       "      <td>0.990867</td>\n",
       "      <td>0.991434</td>\n",
       "    </tr>\n",
       "    <tr>\n",
       "      <th>Math</th>\n",
       "      <td>-0.859609</td>\n",
       "      <td>0.967838</td>\n",
       "      <td>1.000000</td>\n",
       "      <td>0.979632</td>\n",
       "      <td>0.986942</td>\n",
       "      <td>0.990461</td>\n",
       "      <td>0.989801</td>\n",
       "    </tr>\n",
       "    <tr>\n",
       "      <th>Reading</th>\n",
       "      <td>-0.864694</td>\n",
       "      <td>0.986012</td>\n",
       "      <td>0.979632</td>\n",
       "      <td>1.000000</td>\n",
       "      <td>0.988038</td>\n",
       "      <td>0.995061</td>\n",
       "      <td>0.995545</td>\n",
       "    </tr>\n",
       "    <tr>\n",
       "      <th>Science</th>\n",
       "      <td>-0.834994</td>\n",
       "      <td>0.980068</td>\n",
       "      <td>0.986942</td>\n",
       "      <td>0.988038</td>\n",
       "      <td>1.000000</td>\n",
       "      <td>0.995135</td>\n",
       "      <td>0.995120</td>\n",
       "    </tr>\n",
       "    <tr>\n",
       "      <th>Composite</th>\n",
       "      <td>-0.856530</td>\n",
       "      <td>0.990867</td>\n",
       "      <td>0.990461</td>\n",
       "      <td>0.995061</td>\n",
       "      <td>0.995135</td>\n",
       "      <td>1.000000</td>\n",
       "      <td>0.999876</td>\n",
       "    </tr>\n",
       "    <tr>\n",
       "      <th>Total</th>\n",
       "      <td>-0.856612</td>\n",
       "      <td>0.991434</td>\n",
       "      <td>0.989801</td>\n",
       "      <td>0.995545</td>\n",
       "      <td>0.995120</td>\n",
       "      <td>0.999876</td>\n",
       "      <td>1.000000</td>\n",
       "    </tr>\n",
       "  </tbody>\n",
       "</table>\n",
       "</div>"
      ],
      "text/plain": [
       "               Participation   English      Math   Reading   Science  \\\n",
       "Participation       1.000000 -0.841826 -0.859609 -0.864694 -0.834994   \n",
       "English            -0.841826  1.000000  0.967838  0.986012  0.980068   \n",
       "Math               -0.859609  0.967838  1.000000  0.979632  0.986942   \n",
       "Reading            -0.864694  0.986012  0.979632  1.000000  0.988038   \n",
       "Science            -0.834994  0.980068  0.986942  0.988038  1.000000   \n",
       "Composite          -0.856530  0.990867  0.990461  0.995061  0.995135   \n",
       "Total              -0.856612  0.991434  0.989801  0.995545  0.995120   \n",
       "\n",
       "               Composite     Total  \n",
       "Participation  -0.856530 -0.856612  \n",
       "English         0.990867  0.991434  \n",
       "Math            0.990461  0.989801  \n",
       "Reading         0.995061  0.995545  \n",
       "Science         0.995135  0.995120  \n",
       "Composite       1.000000  0.999876  \n",
       "Total           0.999876  1.000000  "
      ]
     },
     "execution_count": 68,
     "metadata": {},
     "output_type": "execute_result"
    }
   ],
   "source": [
    "# There is strong correlation between all the subjects' average grades and total score.\n",
    "# There is reverse not so strong correlation between participation and grades.\n",
    "df_act.corr()"
   ]
  },
  {
   "cell_type": "code",
   "execution_count": 69,
   "metadata": {},
   "outputs": [
    {
     "data": {
      "text/html": [
       "<div>\n",
       "<style scoped>\n",
       "    .dataframe tbody tr th:only-of-type {\n",
       "        vertical-align: middle;\n",
       "    }\n",
       "\n",
       "    .dataframe tbody tr th {\n",
       "        vertical-align: top;\n",
       "    }\n",
       "\n",
       "    .dataframe thead th {\n",
       "        text-align: right;\n",
       "    }\n",
       "</style>\n",
       "<table border=\"1\" class=\"dataframe\">\n",
       "  <thead>\n",
       "    <tr style=\"text-align: right;\">\n",
       "      <th></th>\n",
       "      <th>Participation</th>\n",
       "      <th>Evidence-Based Reading and Writing</th>\n",
       "      <th>Math</th>\n",
       "      <th>Total</th>\n",
       "    </tr>\n",
       "  </thead>\n",
       "  <tbody>\n",
       "    <tr>\n",
       "      <th>Participation</th>\n",
       "      <td>1.000000</td>\n",
       "      <td>-0.874326</td>\n",
       "      <td>-0.855091</td>\n",
       "      <td>-0.867540</td>\n",
       "    </tr>\n",
       "    <tr>\n",
       "      <th>Evidence-Based Reading and Writing</th>\n",
       "      <td>-0.874326</td>\n",
       "      <td>1.000000</td>\n",
       "      <td>0.987056</td>\n",
       "      <td>0.996661</td>\n",
       "    </tr>\n",
       "    <tr>\n",
       "      <th>Math</th>\n",
       "      <td>-0.855091</td>\n",
       "      <td>0.987056</td>\n",
       "      <td>1.000000</td>\n",
       "      <td>0.996822</td>\n",
       "    </tr>\n",
       "    <tr>\n",
       "      <th>Total</th>\n",
       "      <td>-0.867540</td>\n",
       "      <td>0.996661</td>\n",
       "      <td>0.996822</td>\n",
       "      <td>1.000000</td>\n",
       "    </tr>\n",
       "  </tbody>\n",
       "</table>\n",
       "</div>"
      ],
      "text/plain": [
       "                                    Participation  \\\n",
       "Participation                            1.000000   \n",
       "Evidence-Based Reading and Writing      -0.874326   \n",
       "Math                                    -0.855091   \n",
       "Total                                   -0.867540   \n",
       "\n",
       "                                    Evidence-Based Reading and Writing  \\\n",
       "Participation                                                -0.874326   \n",
       "Evidence-Based Reading and Writing                            1.000000   \n",
       "Math                                                          0.987056   \n",
       "Total                                                         0.996661   \n",
       "\n",
       "                                        Math     Total  \n",
       "Participation                      -0.855091 -0.867540  \n",
       "Evidence-Based Reading and Writing  0.987056  0.996661  \n",
       "Math                                1.000000  0.996822  \n",
       "Total                               0.996822  1.000000  "
      ]
     },
     "execution_count": 69,
     "metadata": {},
     "output_type": "execute_result"
    }
   ],
   "source": [
    "# There is strong correlation between all the subjects' average grades and total score.\n",
    "# There is reverse not so strong correlation between participation and grades.\n",
    "df_sat.corr()"
   ]
  },
  {
   "cell_type": "markdown",
   "metadata": {},
   "source": [
    "##### 26. Execute a hypothesis test comparing the SAT and ACT participation rates. Use $\\alpha = 0.05$. Be sure to interpret your results."
   ]
  },
  {
   "cell_type": "code",
   "execution_count": 70,
   "metadata": {},
   "outputs": [
    {
     "data": {
      "text/plain": [
       "array([[ 1.        , -0.84123446],\n",
       "       [-0.84123446,  1.        ]])"
      ]
     },
     "execution_count": 70,
     "metadata": {},
     "output_type": "execute_result"
    }
   ],
   "source": [
    "# first of all we need to know if our populations are independent\n",
    "np.corrcoef(df_total['Participation_ACT'],df_total['Participation_SAT'])"
   ]
  },
  {
   "cell_type": "code",
   "execution_count": 71,
   "metadata": {},
   "outputs": [
    {
     "data": {
      "text/plain": [
       "Ttest_relResult(statistic=2.809551978370788, pvalue=0.00706192842208239)"
      ]
     },
     "execution_count": 71,
     "metadata": {},
     "output_type": "execute_result"
    }
   ],
   "source": [
    "# we can see that participation is negative correlated, that is why we have to test them like depended populations\n",
    "stats.ttest_rel(df_total['Participation_ACT'], df_total['Participation_SAT']) "
   ]
  },
  {
   "cell_type": "code",
   "execution_count": 72,
   "metadata": {},
   "outputs": [
    {
     "data": {
      "text/plain": [
       "Ttest_indResult(statistic=3.8085778908170544, pvalue=0.00024134203698662353)"
      ]
     },
     "execution_count": 72,
     "metadata": {},
     "output_type": "execute_result"
    }
   ],
   "source": [
    "# do the same for independed populations\n",
    "stats.ttest_ind(df_total['Participation_ACT'], df_total['Participation_SAT']) "
   ]
  },
  {
   "cell_type": "code",
   "execution_count": 73,
   "metadata": {},
   "outputs": [],
   "source": [
    "# in both cases we got pvalue < alpha (alpha = 0.05), that means that our populations totally different"
   ]
  },
  {
   "cell_type": "markdown",
   "metadata": {},
   "source": [
    "##### 27. Generate and interpret 95% confidence intervals for SAT and ACT participation rates."
   ]
  },
  {
   "cell_type": "code",
   "execution_count": null,
   "metadata": {},
   "outputs": [],
   "source": [
    "def confidence_interval(data,name,percent):\n",
    "    if percent<0 or percent>100:\n",
    "        print(\"Error! Percent must be between 0 and 100 inclusive!\")\n",
    "    else:\n",
    "        first_percentile = np.percentile(data,(100-percent)/2)\n",
    "        last_percentile = np.percentile(data,100-(100-percent)/2)\n",
    "        print('{}% confidence interval for {} is:{}, {}'.format(percent,name,first_percentile,last_percentile))\n",
    "\n",
    "confidence_interval(df_act['Participation'],'ACT participation',95) # that means that 95%    \n",
    "confidence_interval(df_sat['Participation'],'SAT participation',95)   "
   ]
  },
  {
   "cell_type": "markdown",
   "metadata": {},
   "source": [
    "##### 28. Given your answer to 26, was your answer to 27 surprising? Why?"
   ]
  },
  {
   "cell_type": "code",
   "execution_count": null,
   "metadata": {},
   "outputs": [],
   "source": [
    "# It was expected that the confidence intervals would be different \n",
    "# because of huge difference between SAT and ACT participation"
   ]
  },
  {
   "cell_type": "markdown",
   "metadata": {},
   "source": [
    "##### 29. Is it appropriate to generate correlation between SAT and ACT math scores? Why?"
   ]
  },
  {
   "cell_type": "code",
   "execution_count": null,
   "metadata": {},
   "outputs": [],
   "source": [
    "# It doesn't make any sence because participation of SAT and ACT very different, \n",
    "# the more students wrote ACT, the less SAT. It would make sence if SAT and ACT participation the same.\n",
    "# But we still can do it.\n",
    "np.corrcoef(df_total['Math_ACT'],df_total['Math_SAT'])"
   ]
  },
  {
   "cell_type": "markdown",
   "metadata": {},
   "source": [
    "##### 30. Suppose we only seek to understand the relationship between SAT and ACT data in 2017. Does it make sense to conduct statistical inference given the data we have? Why?"
   ]
  },
  {
   "cell_type": "code",
   "execution_count": null,
   "metadata": {},
   "outputs": [],
   "source": [
    "# It make sense only for those states, where SAT participation is equal to ACT participation.\n",
    "\n"
   ]
  }
 ],
 "metadata": {
  "anaconda-cloud": {},
  "kernelspec": {
   "display_name": "Python [default]",
   "language": "python",
   "name": "python3"
  },
  "language_info": {
   "codemirror_mode": {
    "name": "ipython",
    "version": 3
   },
   "file_extension": ".py",
   "mimetype": "text/x-python",
   "name": "python",
   "nbconvert_exporter": "python",
   "pygments_lexer": "ipython3",
   "version": "3.6.6"
  }
 },
 "nbformat": 4,
 "nbformat_minor": 1
}
